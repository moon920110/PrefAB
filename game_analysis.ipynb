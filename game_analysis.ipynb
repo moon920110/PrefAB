{
 "cells": [
  {
   "cell_type": "code",
   "execution_count": 1,
   "id": "f0456427ea3ae69b",
   "metadata": {
    "ExecuteTime": {
     "end_time": "2024-08-27T03:07:54.862250Z",
     "start_time": "2024-08-27T03:07:53.742726Z"
    }
   },
   "outputs": [
    {
     "name": "stdout",
     "output_type": "stream",
     "text": [
      "Package                           Version\r\n",
      "--------------------------------- --------------------\r\n",
      "absl-py                           2.1.0\r\n",
      "accelerate                        0.30.1\r\n",
      "aiofiles                          22.1.0\r\n",
      "aiohttp                           3.9.5\r\n",
      "aiosignal                         1.3.1\r\n",
      "aiosqlite                         0.20.0\r\n",
      "altair                            5.3.0\r\n",
      "aniso8601                         9.0.1\r\n",
      "annotated-types                   0.7.0\r\n",
      "anyio                             4.4.0\r\n",
      "argcomplete                       3.3.0\r\n",
      "argon2-cffi                       23.1.0\r\n",
      "argon2-cffi-bindings              21.2.0\r\n",
      "arrow                             1.3.0\r\n",
      "astroid                           3.2.2\r\n",
      "asttokens                         2.4.1\r\n",
      "async-timeout                     4.0.3\r\n",
      "attrs                             23.1.0\r\n",
      "autopep8                          1.5.5\r\n",
      "Babel                             2.15.0\r\n",
      "beautifulsoup4                    4.12.3\r\n",
      "bleach                            6.1.0\r\n",
      "blinker                           1.8.2\r\n",
      "bokeh                             3.4.1\r\n",
      "branca                            0.7.2\r\n",
      "Brotli                            1.1.0\r\n",
      "bs4                               0.0.2\r\n",
      "cachetools                        5.3.3\r\n",
      "catfish                           1.4.13\r\n",
      "certifi                           2024.2.2\r\n",
      "cffi                              1.16.0\r\n",
      "chardet                           3.0.4\r\n",
      "charset-normalizer                3.3.2\r\n",
      "cheetah                           0.4.16\r\n",
      "click                             8.0.0\r\n",
      "click-plugins                     1.1.1\r\n",
      "cligj                             0.7.2\r\n",
      "cloudpickle                       3.0.0\r\n",
      "cmake                             3.25.0\r\n",
      "colorama                          0.4.6\r\n",
      "comm                              0.2.2\r\n",
      "contourpy                         1.2.1\r\n",
      "cuda-python                       12.5.0\r\n",
      "cycler                            0.12.1\r\n",
      "Cython                            3.0.10\r\n",
      "dbus-python                       1.2.16\r\n",
      "debugpy                           1.8.1\r\n",
      "decorator                         5.1.1\r\n",
      "defusedxml                        0.7.1\r\n",
      "dill                              0.3.8\r\n",
      "dnspython                         2.6.1\r\n",
      "dtw-python                        1.5.1\r\n",
      "email_validator                   2.1.1\r\n",
      "entrypoints                       0.4\r\n",
      "exceptiongroup                    1.2.1\r\n",
      "executing                         2.0.1\r\n",
      "fastapi                           0.111.0\r\n",
      "fastapi-cli                       0.0.4\r\n",
      "fastjsonschema                    2.19.1\r\n",
      "ffmpy                             0.3.2\r\n",
      "filelock                          3.14.0\r\n",
      "fiona                             1.9.6\r\n",
      "flake8                            3.8.4\r\n",
      "Flask                             2.2.2\r\n",
      "Flask-HTTPAuth                    4.8.0\r\n",
      "Flask-RESTful                     0.3.10\r\n",
      "Flask-Script                      2.0.6\r\n",
      "Flask-Testing                     0.8.1\r\n",
      "folium                            0.16.0\r\n",
      "fonttools                         4.52.4\r\n",
      "fqdn                              1.5.1\r\n",
      "frozenlist                        1.4.1\r\n",
      "fsspec                            2024.5.0\r\n",
      "future                            1.0.0\r\n",
      "geographiclib                     2.0\r\n",
      "geonetworkx                       0.5.3\r\n",
      "geopandas                         0.14.4\r\n",
      "geopy                             2.4.1\r\n",
      "gevent                            24.2.1\r\n",
      "geventhttpclient                  2.0.2\r\n",
      "gitdb                             4.0.11\r\n",
      "GitPython                         3.1.43\r\n",
      "google-auth                       2.29.0\r\n",
      "google-auth-oauthlib              1.0.0\r\n",
      "gradio                            4.23.0\r\n",
      "gradio_client                     0.14.0\r\n",
      "greenlet                          3.0.3\r\n",
      "grpcio                            1.64.0\r\n",
      "h11                               0.14.0\r\n",
      "h5py                              3.11.0\r\n",
      "haversine                         2.8.1\r\n",
      "horovod                           0.28.1\r\n",
      "httpcore                          1.0.5\r\n",
      "httptools                         0.6.1\r\n",
      "httpx                             0.27.0\r\n",
      "huggingface-hub                   0.23.2\r\n",
      "idna                              3.7\r\n",
      "imageio                           2.34.1\r\n",
      "importlib-metadata                6.11.0\r\n",
      "importlib_resources               6.4.0\r\n",
      "imutils                           0.5.4\r\n",
      "iniconfig                         2.0.0\r\n",
      "ipykernel                         6.29.4\r\n",
      "ipython                           8.24.0\r\n",
      "ipython-genutils                  0.2.0\r\n",
      "ipywidgets                        8.1.2\r\n",
      "isoduration                       20.11.0\r\n",
      "isort                             5.13.2\r\n",
      "itsdangerous                      2.1.2\r\n",
      "JayDeBeApi                        1.2.3\r\n",
      "jedi                              0.17.2\r\n",
      "Jinja2                            3.1.2\r\n",
      "JLDracula                         0.2.0\r\n",
      "joblib                            1.4.2\r\n",
      "JPype1                            1.5.0\r\n",
      "json5                             0.9.25\r\n",
      "JsonForm                          0.0.2\r\n",
      "jsonpointer                       2.4\r\n",
      "jsonschema                        4.19.2\r\n",
      "jsonschema-specifications         2023.12.1\r\n",
      "JsonSir                           0.0.2\r\n",
      "jupyter_bokeh                     4.0.4\r\n",
      "jupyter_client                    7.4.9\r\n",
      "jupyter_core                      5.7.2\r\n",
      "jupyter-events                    0.6.3\r\n",
      "jupyter-lsp                       2.2.5\r\n",
      "jupyter-resource-usage            0.7.2\r\n",
      "jupyter_server                    2.10.0\r\n",
      "jupyter_server_fileid             0.9.2\r\n",
      "jupyter-server-mathjax            0.2.6\r\n",
      "jupyter_server_terminals          0.5.3\r\n",
      "jupyter_server_ydoc               0.8.0\r\n",
      "jupyter-ydoc                      0.2.5\r\n",
      "jupyterlab                        3.6.5\r\n",
      "jupyterlab-execute-time           2.3.1\r\n",
      "jupyterlab_fasta                  3.3.0\r\n",
      "jupyterlab_geojson                3.4.0\r\n",
      "jupyterlab_git                    0.44.0\r\n",
      "jupyterlab_horizon_theme          4.0.2\r\n",
      "jupyterlab_katex                  3.4.0\r\n",
      "jupyterlab-language-pack-ko-KR    4.2.post1\r\n",
      "jupyterlab-lsp                    4.3.0\r\n",
      "jupyterlab-materialdarker         0.6.1\r\n",
      "jupyterlab-mathjax3               4.3.0\r\n",
      "jupyterlab_pygments               0.3.0\r\n",
      "jupyterlab_server                 2.27.2\r\n",
      "jupyterlab-system-monitor         0.8.0\r\n",
      "jupyterlab-topbar                 0.6.1\r\n",
      "jupyterlab-vega2                  3.2.0\r\n",
      "jupyterlab_vega3                  3.3.0\r\n",
      "jupyterlab_widgets                3.0.10\r\n",
      "kiwisolver                        1.4.5\r\n",
      "konlpy                            0.6.0\r\n",
      "langdetect                        1.0.9\r\n",
      "lazy_loader                       0.4\r\n",
      "lckr_jupyterlab_variableinspector 3.2.1\r\n",
      "lightning-utilities               0.11.2\r\n",
      "lit                               15.0.7\r\n",
      "llvmlite                          0.43.0\r\n",
      "lxml                              5.2.2\r\n",
      "Markdown                          3.3.7\r\n",
      "markdown-it-py                    3.0.0\r\n",
      "MarkupSafe                        2.1.5\r\n",
      "matplotlib                        3.9.0\r\n",
      "matplotlib-inline                 0.1.7\r\n",
      "mccabe                            0.6.1\r\n",
      "mdurl                             0.1.2\r\n",
      "mistune                           0.8.4\r\n",
      "mpmath                            1.3.0\r\n",
      "multidict                         6.0.5\r\n",
      "mysqlclient                       2.2.4\r\n",
      "nbclassic                         1.1.0\r\n",
      "nbclient                          0.10.0\r\n",
      "nbconvert                         6.5.4\r\n",
      "nbdime                            3.2.1\r\n",
      "nbformat                          5.10.4\r\n",
      "nest-asyncio                      1.6.0\r\n",
      "networkx                          3.3\r\n",
      "nltk                              3.9.1\r\n",
      "nose                              1.3.7\r\n",
      "notebook                          6.5.7\r\n",
      "notebook_shim                     0.2.4\r\n",
      "numba                             0.60.0\r\n",
      "numpy                             1.26.4\r\n",
      "nvidia-cublas-cu11                11.11.3.6\r\n",
      "nvidia-cuda-cupti-cu11            11.8.87\r\n",
      "nvidia-cuda-nvrtc-cu11            11.8.89\r\n",
      "nvidia-cuda-runtime-cu11          11.8.89\r\n",
      "nvidia-cudnn-cu11                 8.7.0.84\r\n",
      "nvidia-cufft-cu11                 10.9.0.58\r\n",
      "nvidia-curand-cu11                10.3.0.86\r\n",
      "nvidia-cusolver-cu11              11.4.1.48\r\n",
      "nvidia-cusparse-cu11              11.7.5.86\r\n",
      "nvidia-nccl-cu11                  2.20.5\r\n",
      "nvidia-nvtx-cu11                  11.8.86\r\n",
      "oauthlib                          3.2.2\r\n",
      "opencv-python                     4.10.0.84\r\n",
      "orjson                            3.10.3\r\n",
      "overrides                         7.7.0\r\n",
      "packaging                         23.2\r\n",
      "pandas                            2.2.2\r\n",
      "pandocfilters                     1.5.1\r\n",
      "parso                             0.7.1\r\n",
      "patsy                             0.5.6\r\n",
      "peft                              0.11.1\r\n",
      "pexpect                           4.9.0\r\n",
      "pillow                            10.3.0\r\n",
      "pip                               24.0\r\n",
      "pipx                              1.5.0\r\n",
      "platformdirs                      4.2.2\r\n",
      "plotly                            5.22.0\r\n",
      "pluggy                            1.5.0\r\n",
      "pmdarima                          2.0.4\r\n",
      "prometheus_client                 0.20.0\r\n",
      "prompt_toolkit                    3.0.44\r\n",
      "protobuf                          3.20.3\r\n",
      "psutil                            5.9.8\r\n",
      "ptyprocess                        0.7.0\r\n",
      "pure-eval                         0.2.2\r\n",
      "pyarrow                           16.1.0\r\n",
      "pyasn1                            0.6.0\r\n",
      "pyasn1_modules                    0.4.0\r\n",
      "pycairo                           1.16.2\r\n",
      "pycodestyle                       2.6.0\r\n",
      "pycparser                         2.22\r\n",
      "pycryptodome                      3.20.0\r\n",
      "pydantic                          2.7.1\r\n",
      "pydantic_core                     2.18.2\r\n",
      "pydeck                            0.9.1\r\n",
      "pydocstyle                        6.3.0\r\n",
      "pydub                             0.25.1\r\n",
      "pyflakes                          2.2.0\r\n",
      "Pygments                          2.18.0\r\n",
      "PyGObject                         3.36.0\r\n",
      "PyJWT                             1.7.1\r\n",
      "pylint                            3.2.2\r\n",
      "pyodbc                            5.1.0\r\n",
      "pyparsing                         3.1.2\r\n",
      "pyproj                            3.6.1\r\n",
      "pytest                            8.2.1\r\n",
      "python-apt                        2.0.1+ubuntu0.20.4.1\r\n",
      "python-dateutil                   2.9.0.post0\r\n",
      "python-debian                     0.1.36+ubuntu1.1\r\n",
      "python-dotenv                     1.0.1\r\n",
      "Python-EasyConfig                 0.1.7\r\n",
      "python-json-logger                2.0.7\r\n",
      "python-jsonrpc-server             0.4.0\r\n",
      "python-language-server            0.36.2\r\n",
      "python-multipart                  0.0.9\r\n",
      "python-rapidjson                  1.17\r\n",
      "pytoolconfig                      1.3.1\r\n",
      "pytorch-lightning                 2.2.5\r\n",
      "pytz                              2023.3\r\n",
      "PyYAML                            6.0.1\r\n",
      "pyzmq                             26.0.3\r\n",
      "referencing                       0.35.1\r\n",
      "regex                             2024.5.15\r\n",
      "requests                          2.32.2\r\n",
      "requests-oauthlib                 2.0.0\r\n",
      "requests-toolbelt                 1.0.0\r\n",
      "requests-unixsocket               0.2.0\r\n",
      "Resource                          0.2.1\r\n",
      "rfc3339-validator                 0.1.4\r\n",
      "rfc3986-validator                 0.1.1\r\n",
      "rich                              13.7.1\r\n",
      "rope                              1.13.0\r\n",
      "rpds-py                           0.18.1\r\n",
      "rsa                               4.9\r\n",
      "ruff                              0.4.5\r\n",
      "safetensors                       0.4.3\r\n",
      "scikit-image                      0.23.2\r\n",
      "scikit-learn                      1.5.0\r\n",
      "scipy                             1.13.1\r\n",
      "seaborn                           0.13.2\r\n",
      "semantic-version                  2.10.0\r\n",
      "Send2Trash                        1.8.3\r\n",
      "setuptools                        70.0.0\r\n",
      "shapely                           2.0.4\r\n",
      "shellingham                       1.5.4\r\n",
      "six                               1.16.0\r\n",
      "smmap                             5.0.1\r\n",
      "sniffio                           1.3.1\r\n",
      "snowballstemmer                   2.2.0\r\n",
      "soupsieve                         2.5\r\n",
      "stack-data                        0.6.3\r\n",
      "starlette                         0.37.2\r\n",
      "statsmodels                       0.14.2\r\n",
      "streamlit                         1.28.2\r\n",
      "sympy                             1.12\r\n",
      "tenacity                          8.3.0\r\n",
      "tensorboard                       2.14.0\r\n",
      "tensorboard-data-server           0.7.2\r\n",
      "terminado                         0.18.1\r\n",
      "theme-darcula                     4.0.0\r\n",
      "threadpoolctl                     3.5.0\r\n",
      "tifffile                          2024.5.22\r\n",
      "tinycss2                          1.3.0\r\n",
      "tokenizers                        0.19.1\r\n",
      "toml                              0.10.2\r\n",
      "tomli                             2.0.1\r\n",
      "tomlkit                           0.12.0\r\n",
      "toolz                             0.12.1\r\n",
      "torch                             2.0.0+cu118\r\n",
      "torchaudio                        2.0.1+cu118\r\n",
      "torchmetrics                      1.4.0.post0\r\n",
      "torchvision                       0.15.1+cu118\r\n",
      "tornado                           6.4\r\n",
      "tqdm                              4.66.4\r\n",
      "traitlets                         5.14.3\r\n",
      "transformers                      4.41.1\r\n",
      "triton                            2.0.0\r\n",
      "tritonclient                      2.46.0\r\n",
      "tslearn                           0.6.3\r\n",
      "typer                             0.12.3\r\n",
      "types-python-dateutil             2.9.0.20240316\r\n",
      "typing_extensions                 4.12.0\r\n",
      "tzdata                            2024.1\r\n",
      "tzlocal                           5.2\r\n",
      "ujson                             5.10.0\r\n",
      "uri-template                      1.3.0\r\n",
      "urllib3                           2.2.1\r\n",
      "userpath                          1.9.2\r\n",
      "uvicorn                           0.29.0\r\n",
      "uvloop                            0.19.0\r\n",
      "validators                        0.28.3\r\n",
      "watchdog                          4.0.1\r\n",
      "watchfiles                        0.22.0\r\n",
      "wcwidth                           0.2.13\r\n",
      "webcolors                         1.13\r\n",
      "webencodings                      0.5.1\r\n",
      "websocket-client                  1.8.0\r\n",
      "websockets                        11.0.3\r\n",
      "Werkzeug                          3.0.3\r\n",
      "wheel                             0.43.0\r\n",
      "widgetsnbextension                4.0.10\r\n",
      "wordcloud                         1.9.3\r\n",
      "xyzservices                       2024.4.0\r\n",
      "y-py                              0.6.2\r\n",
      "yapf                              0.40.2\r\n",
      "yarl                              1.9.4\r\n",
      "ypy-websocket                     0.8.4\r\n",
      "zipp                              3.19.0\r\n",
      "zope.event                        5.0\r\n",
      "zope.interface                    6.4.post2\r\n",
      "\r\n",
      "\u001B[1m[\u001B[0m\u001B[34;49mnotice\u001B[0m\u001B[1;39;49m]\u001B[0m\u001B[39;49m A new release of pip is available: \u001B[0m\u001B[31;49m24.0\u001B[0m\u001B[39;49m -> \u001B[0m\u001B[32;49m24.2\u001B[0m\r\n",
      "\u001B[1m[\u001B[0m\u001B[34;49mnotice\u001B[0m\u001B[1;39;49m]\u001B[0m\u001B[39;49m To update, run: \u001B[0m\u001B[32;49mpip install --upgrade pip\u001B[0m\r\n"
     ]
    }
   ],
   "source": [
    "# ! pip install nltk scikit-learn langdetect transformers wordcloud bs4\n",
    "!pip list"
   ]
  },
  {
   "cell_type": "code",
   "id": "ce3708ff27f23e12",
   "metadata": {
    "ExecuteTime": {
     "end_time": "2024-09-23T08:17:42.825287Z",
     "start_time": "2024-09-23T08:17:42.515122Z"
    }
   },
   "source": [
    "import os\n",
    "import glob\n",
    "\n",
    "import requests\n",
    "import numpy as np\n",
    "import pandas as pd\n",
    "import nltk\n",
    "import json\n",
    "import matplotlib.pyplot as plt\n",
    "# import gensim\n",
    "import matplotlib.pyplot as plt\n",
    "import time\n",
    "\n",
    "from tqdm import tqdm\n",
    "from bs4 import BeautifulSoup\n",
    "from nltk.corpus import stopwords\n",
    "from nltk.stem import WordNetLemmatizer\n",
    "from nltk.tokenize import word_tokenize\n",
    "from wordcloud import WordCloud\n",
    "from sklearn.feature_extraction.text import TfidfVectorizer\n",
    "from sklearn.cluster import KMeans\n",
    "from sklearn.metrics.pairwise import cosine_similarity\n",
    "from sklearn.preprocessing import StandardScaler\n",
    "from transformers import BertTokenizer, BertModel\n",
    "# from gensim import corpora\n",
    "from langdetect import detect\n",
    "from langdetect.lang_detect_exception import LangDetectException\n",
    "from langchain_openai import OpenAIEmbeddings"
   ],
   "outputs": [],
   "execution_count": 15
  },
  {
   "cell_type": "code",
   "id": "ed80808a421a59ea",
   "metadata": {
    "ExecuteTime": {
     "end_time": "2024-09-24T06:19:40.256080Z",
     "start_time": "2024-09-24T06:19:40.250404Z"
    }
   },
   "source": [
    "def fetch_platforms_and_genres(url):\n",
    "    headers = {'User-Agent': 'Mozilla/5.0 (Macintosh; Intel Mac OS X 10_15_7) AppleWebKit/537.36 (KHTML, like Gecko) Chrome/127.0.0.0 Safari/537.36'}\n",
    "    response = requests.get(url, headers=headers)\n",
    "    if response.status_code != 200:\n",
    "        print(f'Failed to fetch page: {response.status_code}')\n",
    "        return ''\n",
    "    soup = BeautifulSoup(response.text, 'html.parser')\n",
    "    platforms = soup.select('div.c-gameDetails_Platforms li.c-gameDetails_listItem')\n",
    "    genres = soup.select('li.c-genreList_item')\n",
    "    return \" \".join(platform.get_text(strip=True).lower().replace(' ', '-').replace('/', '').replace('(', '').replace(')', '') for platform in platforms), \",\".join(genre.get_text(strip=True) for genre in genres)"
   ],
   "outputs": [],
   "execution_count": 44
  },
  {
   "cell_type": "code",
   "execution_count": 2,
   "id": "f831410d71296750",
   "metadata": {
    "ExecuteTime": {
     "end_time": "2024-09-02T04:49:46.943302Z",
     "start_time": "2024-09-02T04:49:46.938559Z"
    }
   },
   "outputs": [],
   "source": [
    "def fetch_reviews(url):\n",
    "    headers = {'User-Agent': 'Mozilla/5.0 (Windows NT 10.0; Win64; x64) AppleWebKit/537.36 (KHTML, like Gecko) Chrome/127.0.6533.73 Safari/537.36'}\n",
    "    response = requests.get(url, headers=headers)\n",
    "    if response.status_code != 200:\n",
    "        print(f'Failed to fetch page: {response.status_code}')\n",
    "        return []\n",
    "    data = response.json()\n",
    "    reviews = [item['quote'].lower() for item in data['data']['items'] if is_english(item['quote'])]\n",
    "    print(f'Fetched {len(reviews)}/{len(data[\"data\"][\"items\"])} reviews')\n",
    "    return reviews"
   ]
  },
  {
   "cell_type": "code",
   "execution_count": 3,
   "id": "7dff0461f7118b06",
   "metadata": {
    "ExecuteTime": {
     "end_time": "2024-09-02T04:49:46.948861Z",
     "start_time": "2024-09-02T04:49:46.944783Z"
    }
   },
   "outputs": [],
   "source": [
    "def preprocess_text(text, join_output=True):\n",
    "    stop_words = set(stopwords.words('english'))\n",
    "    lemmatizer = WordNetLemmatizer()\n",
    "    \n",
    "    tokens = word_tokenize(text)\n",
    "    tokens = [word for word in tokens if word.isalpha() and word not in stop_words]\n",
    "    tokens = [lemmatizer.lemmatize(word) for word in tokens]\n",
    "    \n",
    "    if join_output:\n",
    "        return ' ' .join(tokens)\n",
    "    return tokens"
   ]
  },
  {
   "cell_type": "code",
   "execution_count": 4,
   "id": "6ebb104d838b3908",
   "metadata": {
    "ExecuteTime": {
     "end_time": "2024-09-02T04:49:46.954767Z",
     "start_time": "2024-09-02T04:49:46.951146Z"
    }
   },
   "outputs": [],
   "source": [
    "def generate_wordcloud(text):\n",
    "    wordcloud = WordCloud(width=800, height=400).generate(text)\n",
    "    plt.figure(figsize=(10, 10))\n",
    "    plt.imshow(wordcloud, interpolation='bilinear')\n",
    "    plt.axis('off')\n",
    "    plt.show()"
   ]
  },
  {
   "cell_type": "code",
   "execution_count": 5,
   "id": "86576b60ea7e69c2",
   "metadata": {
    "ExecuteTime": {
     "end_time": "2024-09-02T04:49:46.960816Z",
     "start_time": "2024-09-02T04:49:46.956180Z"
    }
   },
   "outputs": [],
   "source": [
    "def extract_relevant_words(processed_reviews, num_clusters=2):\n",
    "    # Create TF-IDF matrix\n",
    "    vectorizer = TfidfVectorizer()\n",
    "    tfidf_matrix = vectorizer.fit_transform(processed_reviews)\n",
    "    \n",
    "    # Perform K-means clustering\n",
    "    kmeans = KMeans(n_clusters=num_clusters, random_state=42)\n",
    "    kmeans.fit(tfidf_matrix)\n",
    "    \n",
    "    # Get cluster centers\n",
    "    cluster_centers = kmeans.cluster_centers_\n",
    "    \n",
    "    # Get feature names (words)\n",
    "    feature_names = vectorizer.get_feature_names_out()\n",
    "    \n",
    "    # Extract top words from each cluster\n",
    "    top_words = []\n",
    "    for center in cluster_centers:\n",
    "        top_indices = center.argsort()[-50:][::-1]  # Get top 50 words\n",
    "        top_words.extend([feature_names[i] for i in top_indices])\n",
    "    \n",
    "    return list(set(top_words))  # Remove duplicates"
   ]
  },
  {
   "cell_type": "code",
   "execution_count": 6,
   "id": "c86585308a0e1495",
   "metadata": {
    "ExecuteTime": {
     "end_time": "2024-09-02T04:49:46.965865Z",
     "start_time": "2024-09-02T04:49:46.962366Z"
    }
   },
   "outputs": [],
   "source": [
    "def is_english(text):\n",
    "    try:\n",
    "        if type(text) != str:\n",
    "            return False\n",
    "        return detect(text) == 'en'\n",
    "    except LangDetectException:\n",
    "        return False"
   ]
  },
  {
   "cell_type": "code",
   "execution_count": 7,
   "id": "a15f88b2b43d9cb8",
   "metadata": {
    "ExecuteTime": {
     "end_time": "2024-09-02T04:49:46.971158Z",
     "start_time": "2024-09-02T04:49:46.967345Z"
    }
   },
   "outputs": [],
   "source": [
    "def get_sentence_embedding(text, model, tokenizer):\n",
    "    inputs = tokenizer(text, return_tensors='pt', truncation=True, max_length=512, padding=True)\n",
    "    outputs = model(**inputs)\n",
    "    return outputs.last_hidden_state.mean(dim=1).detach().numpy().mean(axis=0)"
   ]
  },
  {
   "cell_type": "code",
   "execution_count": 8,
   "id": "ab69289aea1ffbc",
   "metadata": {
    "ExecuteTime": {
     "end_time": "2024-09-02T04:49:46.976620Z",
     "start_time": "2024-09-02T04:49:46.972725Z"
    }
   },
   "outputs": [],
   "source": [
    "def get_game_embedding(review, model, tokenizer):\n",
    "    embeddings = np.array([get_sentence_embedding(sentence, model, tokenizer) for sentence in review])\n",
    "    return embeddings.mean(axis=0)"
   ]
  },
  {
   "cell_type": "code",
   "execution_count": 9,
   "id": "bc6043d0e3b7fc49",
   "metadata": {
    "ExecuteTime": {
     "end_time": "2024-09-02T04:49:46.982077Z",
     "start_time": "2024-09-02T04:49:46.978178Z"
    }
   },
   "outputs": [],
   "source": [
    "def find_similar_games(game_embedding, all_embeddings):\n",
    "    similarities = cosine_similarity([game_embedding], all_embeddings)\n",
    "    return np.argsort(similarities[0])[::-1]"
   ]
  },
  {
   "cell_type": "code",
   "id": "74bd7485bf707664",
   "metadata": {
    "ExecuteTime": {
     "end_time": "2024-09-24T06:10:04.368107Z",
     "start_time": "2024-09-24T06:10:04.362394Z"
    }
   },
   "source": [
    "def read_bio(path):\n",
    "    # read csv\n",
    "    bio = pd.read_csv(path)\n",
    "    bio['Gender'], _ = pd.factorize(bio['Gender'])\n",
    "    bio['Play Frequency'], _ = pd.factorize(bio['Play Frequency'])\n",
    "    bio['Gamer'], _ = pd.factorize(bio['Gamer'])\n",
    "    \n",
    "    bio = bio.drop(['Education', 'Country', 'Left-Handed', 'Platform', 'Favourite Game'], axis=1)\n",
    "    return bio"
   ],
   "outputs": [],
   "execution_count": 32
  },
  {
   "cell_type": "code",
   "execution_count": 13,
   "id": "f70400f1ca87abaf",
   "metadata": {
    "ExecuteTime": {
     "end_time": "2024-08-13T04:58:14.693970Z",
     "start_time": "2024-08-13T04:58:13.937008Z"
    }
   },
   "outputs": [
    {
     "name": "stderr",
     "output_type": "stream",
     "text": [
      "[nltk_data] Downloading package punkt to /Users/supermoon/nltk_data...\n",
      "[nltk_data]   Package punkt is already up-to-date!\n",
      "[nltk_data] Downloading package stopwords to\n",
      "[nltk_data]     /Users/supermoon/nltk_data...\n",
      "[nltk_data]   Package stopwords is already up-to-date!\n",
      "[nltk_data] Downloading package wordnet to\n",
      "[nltk_data]     /Users/supermoon/nltk_data...\n",
      "[nltk_data]   Package wordnet is already up-to-date!\n"
     ]
    },
    {
     "data": {
      "text/plain": [
       "True"
      ]
     },
     "execution_count": 13,
     "metadata": {},
     "output_type": "execute_result"
    }
   ],
   "source": [
    "nltk.download('punkt')\n",
    "nltk.download('stopwords')\n",
    "nltk.download('wordnet')"
   ]
  },
  {
   "metadata": {},
   "cell_type": "code",
   "outputs": [],
   "execution_count": null,
   "source": [
    "# Embedding game reviews\n",
    "bio = read_bio('data/biographical_data_tmp.csv')\n",
    "games = bio['Metacritic Code'].unique()\n",
    "# games = ['american-truck-simulator-starter-pack-california', 'guilty-gear-xx-accent-core-plus', 'guitar-hero', 'jak-3', 'kingdom-rush', 'pokemon-go', 'shenmue-ii', 'super-mario-advance-4-super-mario-bros-3', 'valkyrie-profile-2-silmeria']\n",
    "\n",
    "limit = 200\n",
    "sentiment = 'positive'\n",
    "dir_path = 'data/positive_reviews'\n",
    "if not os.path.exists(dir_path):\n",
    "    os.makedirs(dir_path)\n",
    "\n",
    "pbar = tqdm(games)\n",
    "for game in pbar:\n",
    "    if game == '-':\n",
    "        continue\n",
    "    metacritic_url = f'https://www.metacritic.com/game/{game}/details'\n",
    "    platforms, genres = fetch_platforms_and_genres(metacritic_url)\n",
    "    platforms = platforms.split(' ')\n",
    "    genres = genres.split(',')\n",
    "    api_key = '1MOZgmNFxvmljaQR1X9KAij9Mo4xAY3u'\n",
    "    offset = 0\n",
    "\n",
    "    all_reviews = []\n",
    "    # Add genre column to bio\n",
    "    bio.loc[bio['Metacritic Code'] == game, 'Genre'] = genres[0]\n",
    "bio\n",
    "    # if review_dict.get(game) is None:\n",
    "    #     review_dict[game] = []\n",
    "    # print(f'platforms for {game}: {platforms}, {genres}')\n",
    "    # for platform in platforms:\n",
    "    #     while True:\n",
    "    #         review_api_url = f'https://internal-prod.apigee.fandom.net/v1/xapi/reviews/metacritic/user/games/{game}/platform/{platform}/web?apiKey={api_key}&offset={offset}&limit={limit}&filterBySentiment={sentiment}&sort=date&componentName=user-reviews&componentDisplayName=user%20Reviews&componentType=ReviewList'\n",
    "    #         print(f'Fetching reviews for {game}-{platform} offset {offset}: {review_api_url}')\n",
    "    #         reviews_text = fetch_reviews(review_api_url)\n",
    "    #         if len(reviews_text) == 0:\n",
    "    #             break\n",
    "    #         all_reviews.extend(reviews_text)\n",
    "    #         offset += limit\n",
    "    #     offset = 0\n",
    "    #     time.sleep(0.5)\n",
    "    # # save reviews to file\n",
    "    # with open(f'{dir_path}/{game}.json', 'w') as f:\n",
    "    #     json.dump(all_reviews, f, indent=4)"
   ],
   "id": "6af980d0fd0bd5d8"
  },
  {
   "metadata": {
    "ExecuteTime": {
     "end_time": "2024-09-24T07:04:38.302744Z",
     "start_time": "2024-09-24T07:04:38.181450Z"
    }
   },
   "cell_type": "code",
   "source": "bio.to_csv('data/biographical_data_with_genre.csv', index=False)",
   "id": "662125cd76ea93b4",
   "outputs": [],
   "execution_count": 47
  },
  {
   "cell_type": "code",
   "id": "c0c719d9ff3e4fc3",
   "metadata": {
    "ExecuteTime": {
     "end_time": "2024-09-23T08:19:14.076703Z",
     "start_time": "2024-09-23T08:19:10.908443Z"
    }
   },
   "source": [
    "from dotenv import load_dotenv\n",
    "load_dotenv()\n",
    "\n",
    "dir_path = 'data/positive_reviews'\n",
    "embeddings = OpenAIEmbeddings(model='text-embedding-3-large')\n",
    "review_embeddings = {}\n",
    "review_sentences = {}\n",
    "review_list = glob.glob(f'{dir_path}/*.json')\n",
    "for filename in tqdm(review_list):\n",
    "    reviews = json.load(open(f'{filename}'))\n",
    "    title = filename.split('.')[0].split('/')[-1]\n",
    "    review_embeddings[title] = np.array(embeddings.embed_documents(reviews))\n",
    "    review_sentences[title] = reviews\n",
    "    \n",
    "review_embeddings"
   ],
   "outputs": [
    {
     "name": "stderr",
     "output_type": "stream",
     "text": [
      "100%|██████████| 77/77 [00:00<00:00, 387.00it/s]\n"
     ]
    },
    {
     "data": {
      "text/plain": [
       "{}"
      ]
     },
     "execution_count": 16,
     "metadata": {},
     "output_type": "execute_result"
    }
   ],
   "execution_count": 16
  },
  {
   "cell_type": "code",
   "id": "c3a3e9b1754ada65",
   "metadata": {
    "ExecuteTime": {
     "end_time": "2024-09-23T00:46:29.112543Z",
     "start_time": "2024-09-23T00:46:24.349956Z"
    }
   },
   "source": [
    "# write embeddings to h5\n",
    "import h5py\n",
    "with h5py.File('data/positive_review_embeddings.h5', 'w') as f:\n",
    "    for key, value in review_embeddings.items():\n",
    "        f.create_dataset(key, data=value)"
   ],
   "outputs": [],
   "execution_count": 6
  },
  {
   "metadata": {
    "ExecuteTime": {
     "end_time": "2024-09-23T08:19:48.056779Z",
     "start_time": "2024-09-23T08:19:40.516794Z"
    }
   },
   "cell_type": "code",
   "source": [
    "# read embeddings from h5\n",
    "import h5py\n",
    "review_embeddings = {}\n",
    "all_embeddings = []\n",
    "with h5py.File('data/positive_review_embeddings.h5', 'r') as f:\n",
    "    for key in f.keys():\n",
    "        review_embeddings[key] = list(f[key])"
   ],
   "id": "fc565eb568b630de",
   "outputs": [],
   "execution_count": 17
  },
  {
   "cell_type": "code",
   "id": "16563c40a5ce4158",
   "metadata": {
    "ExecuteTime": {
     "end_time": "2024-09-23T08:25:29.704472Z",
     "start_time": "2024-09-23T08:20:03.417460Z"
    }
   },
   "source": [
    "from sklearn.manifold import TSNE\n",
    "from sklearn.decomposition import PCA\n",
    "from sklearn.cluster import KMeans\n",
    "import seaborn as sns\n",
    "from mpl_toolkits.mplot3d import Axes3D\n",
    "\n",
    "all_embeddings = []\n",
    "all_reviews = []\n",
    "titles = []\n",
    "games = []\n",
    "i = 0\n",
    "for game, embeddings in review_embeddings.items():\n",
    "    # if i == 5:\n",
    "    #     break\n",
    "    all_embeddings.extend(embeddings)\n",
    "    all_reviews.extend(review_sentences[game])\n",
    "    titles.extend([game] * len(embeddings))\n",
    "    games.append(game)\n",
    "    i += 1\n",
    "    \n",
    "all_embeddings = np.array(all_embeddings)\n",
    "kmeans = KMeans(n_clusters=5, random_state=42)\n",
    "kmeans.fit(all_embeddings)\n",
    "labels = kmeans.labels_\n",
    "\n",
    "tsne = TSNE(n_components=3, perplexity=20, max_iter=500, learning_rate=100)\n",
    "reduced_embeddings = tsne.fit_transform(all_embeddings)"
   ],
   "outputs": [],
   "execution_count": 19
  },
  {
   "metadata": {
    "ExecuteTime": {
     "end_time": "2024-09-23T08:38:33.475094Z",
     "start_time": "2024-09-23T08:38:33.433399Z"
    }
   },
   "cell_type": "code",
   "source": [
    "import mplcursors\n",
    "%matplotlib notebook\n",
    "\n",
    "fig = plt.figure(figsize=(10, 10))\n",
    "ax = fig.add_subplot(111, projection='3d')\n",
    "\n",
    "sc = ax.scatter(\n",
    "    reduced_embeddings[:, 0], \n",
    "    reduced_embeddings[:, 1], \n",
    "    reduced_embeddings[:, 2], \n",
    "    c=labels,\n",
    "    cmap='viridis'\n",
    ")\n",
    "\n",
    "cursor = mplcursors.cursor(sc, hover=True)\n",
    "@cursor.connect(\"add\")\n",
    "def on_add(sel):\n",
    "    index = sel.index\n",
    "    sel.annotation.set_text(f'{games[index]}: {all_reviews[index]}')\n",
    "    \n",
    "# sns.scatterplot(x=reduced_embeddings[:, 0], y=reduced_embeddings[:, 1], hue=titles)\n",
    "plt.title('PCA Visualization of Game Reviews')\n",
    "plt.show()"
   ],
   "id": "2e7ad04e7519fe6",
   "outputs": [
    {
     "data": {
      "text/plain": [
       "<IPython.core.display.Javascript object>"
      ],
      "application/javascript": "/* Put everything inside the global mpl namespace */\n/* global mpl */\nwindow.mpl = {};\n\nmpl.get_websocket_type = function () {\n    if (typeof WebSocket !== 'undefined') {\n        return WebSocket;\n    } else if (typeof MozWebSocket !== 'undefined') {\n        return MozWebSocket;\n    } else {\n        alert(\n            'Your browser does not have WebSocket support. ' +\n                'Please try Chrome, Safari or Firefox ≥ 6. ' +\n                'Firefox 4 and 5 are also supported but you ' +\n                'have to enable WebSockets in about:config.'\n        );\n    }\n};\n\nmpl.figure = function (figure_id, websocket, ondownload, parent_element) {\n    this.id = figure_id;\n\n    this.ws = websocket;\n\n    this.supports_binary = this.ws.binaryType !== undefined;\n\n    if (!this.supports_binary) {\n        var warnings = document.getElementById('mpl-warnings');\n        if (warnings) {\n            warnings.style.display = 'block';\n            warnings.textContent =\n                'This browser does not support binary websocket messages. ' +\n                'Performance may be slow.';\n        }\n    }\n\n    this.imageObj = new Image();\n\n    this.context = undefined;\n    this.message = undefined;\n    this.canvas = undefined;\n    this.rubberband_canvas = undefined;\n    this.rubberband_context = undefined;\n    this.format_dropdown = undefined;\n\n    this.image_mode = 'full';\n\n    this.root = document.createElement('div');\n    this.root.setAttribute('style', 'display: inline-block');\n    this._root_extra_style(this.root);\n\n    parent_element.appendChild(this.root);\n\n    this._init_header(this);\n    this._init_canvas(this);\n    this._init_toolbar(this);\n\n    var fig = this;\n\n    this.waiting = false;\n\n    this.ws.onopen = function () {\n        fig.send_message('supports_binary', { value: fig.supports_binary });\n        fig.send_message('send_image_mode', {});\n        if (fig.ratio !== 1) {\n            fig.send_message('set_device_pixel_ratio', {\n                device_pixel_ratio: fig.ratio,\n            });\n        }\n        fig.send_message('refresh', {});\n    };\n\n    this.imageObj.onload = function () {\n        if (fig.image_mode === 'full') {\n            // Full images could contain transparency (where diff images\n            // almost always do), so we need to clear the canvas so that\n            // there is no ghosting.\n            fig.context.clearRect(0, 0, fig.canvas.width, fig.canvas.height);\n        }\n        fig.context.drawImage(fig.imageObj, 0, 0);\n    };\n\n    this.imageObj.onunload = function () {\n        fig.ws.close();\n    };\n\n    this.ws.onmessage = this._make_on_message_function(this);\n\n    this.ondownload = ondownload;\n};\n\nmpl.figure.prototype._init_header = function () {\n    var titlebar = document.createElement('div');\n    titlebar.classList =\n        'ui-dialog-titlebar ui-widget-header ui-corner-all ui-helper-clearfix';\n    var titletext = document.createElement('div');\n    titletext.classList = 'ui-dialog-title';\n    titletext.setAttribute(\n        'style',\n        'width: 100%; text-align: center; padding: 3px;'\n    );\n    titlebar.appendChild(titletext);\n    this.root.appendChild(titlebar);\n    this.header = titletext;\n};\n\nmpl.figure.prototype._canvas_extra_style = function (_canvas_div) {};\n\nmpl.figure.prototype._root_extra_style = function (_canvas_div) {};\n\nmpl.figure.prototype._init_canvas = function () {\n    var fig = this;\n\n    var canvas_div = (this.canvas_div = document.createElement('div'));\n    canvas_div.setAttribute('tabindex', '0');\n    canvas_div.setAttribute(\n        'style',\n        'border: 1px solid #ddd;' +\n            'box-sizing: content-box;' +\n            'clear: both;' +\n            'min-height: 1px;' +\n            'min-width: 1px;' +\n            'outline: 0;' +\n            'overflow: hidden;' +\n            'position: relative;' +\n            'resize: both;' +\n            'z-index: 2;'\n    );\n\n    function on_keyboard_event_closure(name) {\n        return function (event) {\n            return fig.key_event(event, name);\n        };\n    }\n\n    canvas_div.addEventListener(\n        'keydown',\n        on_keyboard_event_closure('key_press')\n    );\n    canvas_div.addEventListener(\n        'keyup',\n        on_keyboard_event_closure('key_release')\n    );\n\n    this._canvas_extra_style(canvas_div);\n    this.root.appendChild(canvas_div);\n\n    var canvas = (this.canvas = document.createElement('canvas'));\n    canvas.classList.add('mpl-canvas');\n    canvas.setAttribute(\n        'style',\n        'box-sizing: content-box;' +\n            'pointer-events: none;' +\n            'position: relative;' +\n            'z-index: 0;'\n    );\n\n    this.context = canvas.getContext('2d');\n\n    var backingStore =\n        this.context.backingStorePixelRatio ||\n        this.context.webkitBackingStorePixelRatio ||\n        this.context.mozBackingStorePixelRatio ||\n        this.context.msBackingStorePixelRatio ||\n        this.context.oBackingStorePixelRatio ||\n        this.context.backingStorePixelRatio ||\n        1;\n\n    this.ratio = (window.devicePixelRatio || 1) / backingStore;\n\n    var rubberband_canvas = (this.rubberband_canvas = document.createElement(\n        'canvas'\n    ));\n    rubberband_canvas.setAttribute(\n        'style',\n        'box-sizing: content-box;' +\n            'left: 0;' +\n            'pointer-events: none;' +\n            'position: absolute;' +\n            'top: 0;' +\n            'z-index: 1;'\n    );\n\n    // Apply a ponyfill if ResizeObserver is not implemented by browser.\n    if (this.ResizeObserver === undefined) {\n        if (window.ResizeObserver !== undefined) {\n            this.ResizeObserver = window.ResizeObserver;\n        } else {\n            var obs = _JSXTOOLS_RESIZE_OBSERVER({});\n            this.ResizeObserver = obs.ResizeObserver;\n        }\n    }\n\n    this.resizeObserverInstance = new this.ResizeObserver(function (entries) {\n        // There's no need to resize if the WebSocket is not connected:\n        // - If it is still connecting, then we will get an initial resize from\n        //   Python once it connects.\n        // - If it has disconnected, then resizing will clear the canvas and\n        //   never get anything back to refill it, so better to not resize and\n        //   keep something visible.\n        if (fig.ws.readyState != 1) {\n            return;\n        }\n        var nentries = entries.length;\n        for (var i = 0; i < nentries; i++) {\n            var entry = entries[i];\n            var width, height;\n            if (entry.contentBoxSize) {\n                if (entry.contentBoxSize instanceof Array) {\n                    // Chrome 84 implements new version of spec.\n                    width = entry.contentBoxSize[0].inlineSize;\n                    height = entry.contentBoxSize[0].blockSize;\n                } else {\n                    // Firefox implements old version of spec.\n                    width = entry.contentBoxSize.inlineSize;\n                    height = entry.contentBoxSize.blockSize;\n                }\n            } else {\n                // Chrome <84 implements even older version of spec.\n                width = entry.contentRect.width;\n                height = entry.contentRect.height;\n            }\n\n            // Keep the size of the canvas and rubber band canvas in sync with\n            // the canvas container.\n            if (entry.devicePixelContentBoxSize) {\n                // Chrome 84 implements new version of spec.\n                canvas.setAttribute(\n                    'width',\n                    entry.devicePixelContentBoxSize[0].inlineSize\n                );\n                canvas.setAttribute(\n                    'height',\n                    entry.devicePixelContentBoxSize[0].blockSize\n                );\n            } else {\n                canvas.setAttribute('width', width * fig.ratio);\n                canvas.setAttribute('height', height * fig.ratio);\n            }\n            /* This rescales the canvas back to display pixels, so that it\n             * appears correct on HiDPI screens. */\n            canvas.style.width = width + 'px';\n            canvas.style.height = height + 'px';\n\n            rubberband_canvas.setAttribute('width', width);\n            rubberband_canvas.setAttribute('height', height);\n\n            // And update the size in Python. We ignore the initial 0/0 size\n            // that occurs as the element is placed into the DOM, which should\n            // otherwise not happen due to the minimum size styling.\n            if (width != 0 && height != 0) {\n                fig.request_resize(width, height);\n            }\n        }\n    });\n    this.resizeObserverInstance.observe(canvas_div);\n\n    function on_mouse_event_closure(name) {\n        /* User Agent sniffing is bad, but WebKit is busted:\n         * https://bugs.webkit.org/show_bug.cgi?id=144526\n         * https://bugs.webkit.org/show_bug.cgi?id=181818\n         * The worst that happens here is that they get an extra browser\n         * selection when dragging, if this check fails to catch them.\n         */\n        var UA = navigator.userAgent;\n        var isWebKit = /AppleWebKit/.test(UA) && !/Chrome/.test(UA);\n        if(isWebKit) {\n            return function (event) {\n                /* This prevents the web browser from automatically changing to\n                 * the text insertion cursor when the button is pressed. We\n                 * want to control all of the cursor setting manually through\n                 * the 'cursor' event from matplotlib */\n                event.preventDefault()\n                return fig.mouse_event(event, name);\n            };\n        } else {\n            return function (event) {\n                return fig.mouse_event(event, name);\n            };\n        }\n    }\n\n    canvas_div.addEventListener(\n        'mousedown',\n        on_mouse_event_closure('button_press')\n    );\n    canvas_div.addEventListener(\n        'mouseup',\n        on_mouse_event_closure('button_release')\n    );\n    canvas_div.addEventListener(\n        'dblclick',\n        on_mouse_event_closure('dblclick')\n    );\n    // Throttle sequential mouse events to 1 every 20ms.\n    canvas_div.addEventListener(\n        'mousemove',\n        on_mouse_event_closure('motion_notify')\n    );\n\n    canvas_div.addEventListener(\n        'mouseenter',\n        on_mouse_event_closure('figure_enter')\n    );\n    canvas_div.addEventListener(\n        'mouseleave',\n        on_mouse_event_closure('figure_leave')\n    );\n\n    canvas_div.addEventListener('wheel', function (event) {\n        if (event.deltaY < 0) {\n            event.step = 1;\n        } else {\n            event.step = -1;\n        }\n        on_mouse_event_closure('scroll')(event);\n    });\n\n    canvas_div.appendChild(canvas);\n    canvas_div.appendChild(rubberband_canvas);\n\n    this.rubberband_context = rubberband_canvas.getContext('2d');\n    this.rubberband_context.strokeStyle = '#000000';\n\n    this._resize_canvas = function (width, height, forward) {\n        if (forward) {\n            canvas_div.style.width = width + 'px';\n            canvas_div.style.height = height + 'px';\n        }\n    };\n\n    // Disable right mouse context menu.\n    canvas_div.addEventListener('contextmenu', function (_e) {\n        event.preventDefault();\n        return false;\n    });\n\n    function set_focus() {\n        canvas.focus();\n        canvas_div.focus();\n    }\n\n    window.setTimeout(set_focus, 100);\n};\n\nmpl.figure.prototype._init_toolbar = function () {\n    var fig = this;\n\n    var toolbar = document.createElement('div');\n    toolbar.classList = 'mpl-toolbar';\n    this.root.appendChild(toolbar);\n\n    function on_click_closure(name) {\n        return function (_event) {\n            return fig.toolbar_button_onclick(name);\n        };\n    }\n\n    function on_mouseover_closure(tooltip) {\n        return function (event) {\n            if (!event.currentTarget.disabled) {\n                return fig.toolbar_button_onmouseover(tooltip);\n            }\n        };\n    }\n\n    fig.buttons = {};\n    var buttonGroup = document.createElement('div');\n    buttonGroup.classList = 'mpl-button-group';\n    for (var toolbar_ind in mpl.toolbar_items) {\n        var name = mpl.toolbar_items[toolbar_ind][0];\n        var tooltip = mpl.toolbar_items[toolbar_ind][1];\n        var image = mpl.toolbar_items[toolbar_ind][2];\n        var method_name = mpl.toolbar_items[toolbar_ind][3];\n\n        if (!name) {\n            /* Instead of a spacer, we start a new button group. */\n            if (buttonGroup.hasChildNodes()) {\n                toolbar.appendChild(buttonGroup);\n            }\n            buttonGroup = document.createElement('div');\n            buttonGroup.classList = 'mpl-button-group';\n            continue;\n        }\n\n        var button = (fig.buttons[name] = document.createElement('button'));\n        button.classList = 'mpl-widget';\n        button.setAttribute('role', 'button');\n        button.setAttribute('aria-disabled', 'false');\n        button.addEventListener('click', on_click_closure(method_name));\n        button.addEventListener('mouseover', on_mouseover_closure(tooltip));\n\n        var icon_img = document.createElement('img');\n        icon_img.src = '_images/' + image + '.png';\n        icon_img.srcset = '_images/' + image + '_large.png 2x';\n        icon_img.alt = tooltip;\n        button.appendChild(icon_img);\n\n        buttonGroup.appendChild(button);\n    }\n\n    if (buttonGroup.hasChildNodes()) {\n        toolbar.appendChild(buttonGroup);\n    }\n\n    var fmt_picker = document.createElement('select');\n    fmt_picker.classList = 'mpl-widget';\n    toolbar.appendChild(fmt_picker);\n    this.format_dropdown = fmt_picker;\n\n    for (var ind in mpl.extensions) {\n        var fmt = mpl.extensions[ind];\n        var option = document.createElement('option');\n        option.selected = fmt === mpl.default_extension;\n        option.innerHTML = fmt;\n        fmt_picker.appendChild(option);\n    }\n\n    var status_bar = document.createElement('span');\n    status_bar.classList = 'mpl-message';\n    toolbar.appendChild(status_bar);\n    this.message = status_bar;\n};\n\nmpl.figure.prototype.request_resize = function (x_pixels, y_pixels) {\n    // Request matplotlib to resize the figure. Matplotlib will then trigger a resize in the client,\n    // which will in turn request a refresh of the image.\n    this.send_message('resize', { width: x_pixels, height: y_pixels });\n};\n\nmpl.figure.prototype.send_message = function (type, properties) {\n    properties['type'] = type;\n    properties['figure_id'] = this.id;\n    this.ws.send(JSON.stringify(properties));\n};\n\nmpl.figure.prototype.send_draw_message = function () {\n    if (!this.waiting) {\n        this.waiting = true;\n        this.ws.send(JSON.stringify({ type: 'draw', figure_id: this.id }));\n    }\n};\n\nmpl.figure.prototype.handle_save = function (fig, _msg) {\n    var format_dropdown = fig.format_dropdown;\n    var format = format_dropdown.options[format_dropdown.selectedIndex].value;\n    fig.ondownload(fig, format);\n};\n\nmpl.figure.prototype.handle_resize = function (fig, msg) {\n    var size = msg['size'];\n    if (size[0] !== fig.canvas.width || size[1] !== fig.canvas.height) {\n        fig._resize_canvas(size[0], size[1], msg['forward']);\n        fig.send_message('refresh', {});\n    }\n};\n\nmpl.figure.prototype.handle_rubberband = function (fig, msg) {\n    var x0 = msg['x0'] / fig.ratio;\n    var y0 = (fig.canvas.height - msg['y0']) / fig.ratio;\n    var x1 = msg['x1'] / fig.ratio;\n    var y1 = (fig.canvas.height - msg['y1']) / fig.ratio;\n    x0 = Math.floor(x0) + 0.5;\n    y0 = Math.floor(y0) + 0.5;\n    x1 = Math.floor(x1) + 0.5;\n    y1 = Math.floor(y1) + 0.5;\n    var min_x = Math.min(x0, x1);\n    var min_y = Math.min(y0, y1);\n    var width = Math.abs(x1 - x0);\n    var height = Math.abs(y1 - y0);\n\n    fig.rubberband_context.clearRect(\n        0,\n        0,\n        fig.canvas.width / fig.ratio,\n        fig.canvas.height / fig.ratio\n    );\n\n    fig.rubberband_context.strokeRect(min_x, min_y, width, height);\n};\n\nmpl.figure.prototype.handle_figure_label = function (fig, msg) {\n    // Updates the figure title.\n    fig.header.textContent = msg['label'];\n};\n\nmpl.figure.prototype.handle_cursor = function (fig, msg) {\n    fig.canvas_div.style.cursor = msg['cursor'];\n};\n\nmpl.figure.prototype.handle_message = function (fig, msg) {\n    fig.message.textContent = msg['message'];\n};\n\nmpl.figure.prototype.handle_draw = function (fig, _msg) {\n    // Request the server to send over a new figure.\n    fig.send_draw_message();\n};\n\nmpl.figure.prototype.handle_image_mode = function (fig, msg) {\n    fig.image_mode = msg['mode'];\n};\n\nmpl.figure.prototype.handle_history_buttons = function (fig, msg) {\n    for (var key in msg) {\n        if (!(key in fig.buttons)) {\n            continue;\n        }\n        fig.buttons[key].disabled = !msg[key];\n        fig.buttons[key].setAttribute('aria-disabled', !msg[key]);\n    }\n};\n\nmpl.figure.prototype.handle_navigate_mode = function (fig, msg) {\n    if (msg['mode'] === 'PAN') {\n        fig.buttons['Pan'].classList.add('active');\n        fig.buttons['Zoom'].classList.remove('active');\n    } else if (msg['mode'] === 'ZOOM') {\n        fig.buttons['Pan'].classList.remove('active');\n        fig.buttons['Zoom'].classList.add('active');\n    } else {\n        fig.buttons['Pan'].classList.remove('active');\n        fig.buttons['Zoom'].classList.remove('active');\n    }\n};\n\nmpl.figure.prototype.updated_canvas_event = function () {\n    // Called whenever the canvas gets updated.\n    this.send_message('ack', {});\n};\n\n// A function to construct a web socket function for onmessage handling.\n// Called in the figure constructor.\nmpl.figure.prototype._make_on_message_function = function (fig) {\n    return function socket_on_message(evt) {\n        if (evt.data instanceof Blob) {\n            var img = evt.data;\n            if (img.type !== 'image/png') {\n                /* FIXME: We get \"Resource interpreted as Image but\n                 * transferred with MIME type text/plain:\" errors on\n                 * Chrome.  But how to set the MIME type?  It doesn't seem\n                 * to be part of the websocket stream */\n                img.type = 'image/png';\n            }\n\n            /* Free the memory for the previous frames */\n            if (fig.imageObj.src) {\n                (window.URL || window.webkitURL).revokeObjectURL(\n                    fig.imageObj.src\n                );\n            }\n\n            fig.imageObj.src = (window.URL || window.webkitURL).createObjectURL(\n                img\n            );\n            fig.updated_canvas_event();\n            fig.waiting = false;\n            return;\n        } else if (\n            typeof evt.data === 'string' &&\n            evt.data.slice(0, 21) === 'data:image/png;base64'\n        ) {\n            fig.imageObj.src = evt.data;\n            fig.updated_canvas_event();\n            fig.waiting = false;\n            return;\n        }\n\n        var msg = JSON.parse(evt.data);\n        var msg_type = msg['type'];\n\n        // Call the  \"handle_{type}\" callback, which takes\n        // the figure and JSON message as its only arguments.\n        try {\n            var callback = fig['handle_' + msg_type];\n        } catch (e) {\n            console.log(\n                \"No handler for the '\" + msg_type + \"' message type: \",\n                msg\n            );\n            return;\n        }\n\n        if (callback) {\n            try {\n                // console.log(\"Handling '\" + msg_type + \"' message: \", msg);\n                callback(fig, msg);\n            } catch (e) {\n                console.log(\n                    \"Exception inside the 'handler_\" + msg_type + \"' callback:\",\n                    e,\n                    e.stack,\n                    msg\n                );\n            }\n        }\n    };\n};\n\nfunction getModifiers(event) {\n    var mods = [];\n    if (event.ctrlKey) {\n        mods.push('ctrl');\n    }\n    if (event.altKey) {\n        mods.push('alt');\n    }\n    if (event.shiftKey) {\n        mods.push('shift');\n    }\n    if (event.metaKey) {\n        mods.push('meta');\n    }\n    return mods;\n}\n\n/*\n * return a copy of an object with only non-object keys\n * we need this to avoid circular references\n * https://stackoverflow.com/a/24161582/3208463\n */\nfunction simpleKeys(original) {\n    return Object.keys(original).reduce(function (obj, key) {\n        if (typeof original[key] !== 'object') {\n            obj[key] = original[key];\n        }\n        return obj;\n    }, {});\n}\n\nmpl.figure.prototype.mouse_event = function (event, name) {\n    if (name === 'button_press') {\n        this.canvas.focus();\n        this.canvas_div.focus();\n    }\n\n    // from https://stackoverflow.com/q/1114465\n    var boundingRect = this.canvas.getBoundingClientRect();\n    var x = (event.clientX - boundingRect.left) * this.ratio;\n    var y = (event.clientY - boundingRect.top) * this.ratio;\n\n    this.send_message(name, {\n        x: x,\n        y: y,\n        button: event.button,\n        step: event.step,\n        modifiers: getModifiers(event),\n        guiEvent: simpleKeys(event),\n    });\n\n    return false;\n};\n\nmpl.figure.prototype._key_event_extra = function (_event, _name) {\n    // Handle any extra behaviour associated with a key event\n};\n\nmpl.figure.prototype.key_event = function (event, name) {\n    // Prevent repeat events\n    if (name === 'key_press') {\n        if (event.key === this._key) {\n            return;\n        } else {\n            this._key = event.key;\n        }\n    }\n    if (name === 'key_release') {\n        this._key = null;\n    }\n\n    var value = '';\n    if (event.ctrlKey && event.key !== 'Control') {\n        value += 'ctrl+';\n    }\n    else if (event.altKey && event.key !== 'Alt') {\n        value += 'alt+';\n    }\n    else if (event.shiftKey && event.key !== 'Shift') {\n        value += 'shift+';\n    }\n\n    value += 'k' + event.key;\n\n    this._key_event_extra(event, name);\n\n    this.send_message(name, { key: value, guiEvent: simpleKeys(event) });\n    return false;\n};\n\nmpl.figure.prototype.toolbar_button_onclick = function (name) {\n    if (name === 'download') {\n        this.handle_save(this, null);\n    } else {\n        this.send_message('toolbar_button', { name: name });\n    }\n};\n\nmpl.figure.prototype.toolbar_button_onmouseover = function (tooltip) {\n    this.message.textContent = tooltip;\n};\n\n///////////////// REMAINING CONTENT GENERATED BY embed_js.py /////////////////\n// prettier-ignore\nvar _JSXTOOLS_RESIZE_OBSERVER=function(A){var t,i=new WeakMap,n=new WeakMap,a=new WeakMap,r=new WeakMap,o=new Set;function s(e){if(!(this instanceof s))throw new TypeError(\"Constructor requires 'new' operator\");i.set(this,e)}function h(){throw new TypeError(\"Function is not a constructor\")}function c(e,t,i,n){e=0 in arguments?Number(arguments[0]):0,t=1 in arguments?Number(arguments[1]):0,i=2 in arguments?Number(arguments[2]):0,n=3 in arguments?Number(arguments[3]):0,this.right=(this.x=this.left=e)+(this.width=i),this.bottom=(this.y=this.top=t)+(this.height=n),Object.freeze(this)}function d(){t=requestAnimationFrame(d);var s=new WeakMap,p=new Set;o.forEach((function(t){r.get(t).forEach((function(i){var r=t instanceof window.SVGElement,o=a.get(t),d=r?0:parseFloat(o.paddingTop),f=r?0:parseFloat(o.paddingRight),l=r?0:parseFloat(o.paddingBottom),u=r?0:parseFloat(o.paddingLeft),g=r?0:parseFloat(o.borderTopWidth),m=r?0:parseFloat(o.borderRightWidth),w=r?0:parseFloat(o.borderBottomWidth),b=u+f,F=d+l,v=(r?0:parseFloat(o.borderLeftWidth))+m,W=g+w,y=r?0:t.offsetHeight-W-t.clientHeight,E=r?0:t.offsetWidth-v-t.clientWidth,R=b+v,z=F+W,M=r?t.width:parseFloat(o.width)-R-E,O=r?t.height:parseFloat(o.height)-z-y;if(n.has(t)){var k=n.get(t);if(k[0]===M&&k[1]===O)return}n.set(t,[M,O]);var S=Object.create(h.prototype);S.target=t,S.contentRect=new c(u,d,M,O),s.has(i)||(s.set(i,[]),p.add(i)),s.get(i).push(S)}))})),p.forEach((function(e){i.get(e).call(e,s.get(e),e)}))}return s.prototype.observe=function(i){if(i instanceof window.Element){r.has(i)||(r.set(i,new Set),o.add(i),a.set(i,window.getComputedStyle(i)));var n=r.get(i);n.has(this)||n.add(this),cancelAnimationFrame(t),t=requestAnimationFrame(d)}},s.prototype.unobserve=function(i){if(i instanceof window.Element&&r.has(i)){var n=r.get(i);n.has(this)&&(n.delete(this),n.size||(r.delete(i),o.delete(i))),n.size||r.delete(i),o.size||cancelAnimationFrame(t)}},A.DOMRectReadOnly=c,A.ResizeObserver=s,A.ResizeObserverEntry=h,A}; // eslint-disable-line\nmpl.toolbar_items = [[\"Home\", \"Reset original view\", \"fa fa-home\", \"home\"], [\"Back\", \"Back to previous view\", \"fa fa-arrow-left\", \"back\"], [\"Forward\", \"Forward to next view\", \"fa fa-arrow-right\", \"forward\"], [\"\", \"\", \"\", \"\"], [\"Pan\", \"Left button pans, Right button zooms\\nx/y fixes axis, CTRL fixes aspect\", \"fa fa-arrows\", \"pan\"], [\"Zoom\", \"Zoom to rectangle\\nx/y fixes axis\", \"fa fa-square-o\", \"zoom\"], [\"\", \"\", \"\", \"\"], [\"Download\", \"Download plot\", \"fa fa-floppy-o\", \"download\"]];\n\nmpl.extensions = [\"eps\", \"jpeg\", \"pgf\", \"pdf\", \"png\", \"ps\", \"raw\", \"svg\", \"tif\", \"webp\"];\n\nmpl.default_extension = \"png\";/* global mpl */\n\nvar comm_websocket_adapter = function (comm) {\n    // Create a \"websocket\"-like object which calls the given IPython comm\n    // object with the appropriate methods. Currently this is a non binary\n    // socket, so there is still some room for performance tuning.\n    var ws = {};\n\n    ws.binaryType = comm.kernel.ws.binaryType;\n    ws.readyState = comm.kernel.ws.readyState;\n    function updateReadyState(_event) {\n        if (comm.kernel.ws) {\n            ws.readyState = comm.kernel.ws.readyState;\n        } else {\n            ws.readyState = 3; // Closed state.\n        }\n    }\n    comm.kernel.ws.addEventListener('open', updateReadyState);\n    comm.kernel.ws.addEventListener('close', updateReadyState);\n    comm.kernel.ws.addEventListener('error', updateReadyState);\n\n    ws.close = function () {\n        comm.close();\n    };\n    ws.send = function (m) {\n        //console.log('sending', m);\n        comm.send(m);\n    };\n    // Register the callback with on_msg.\n    comm.on_msg(function (msg) {\n        //console.log('receiving', msg['content']['data'], msg);\n        var data = msg['content']['data'];\n        if (data['blob'] !== undefined) {\n            data = {\n                data: new Blob(msg['buffers'], { type: data['blob'] }),\n            };\n        }\n        // Pass the mpl event to the overridden (by mpl) onmessage function.\n        ws.onmessage(data);\n    });\n    return ws;\n};\n\nmpl.mpl_figure_comm = function (comm, msg) {\n    // This is the function which gets called when the mpl process\n    // starts-up an IPython Comm through the \"matplotlib\" channel.\n\n    var id = msg.content.data.id;\n    // Get hold of the div created by the display call when the Comm\n    // socket was opened in Python.\n    var element = document.getElementById(id);\n    var ws_proxy = comm_websocket_adapter(comm);\n\n    function ondownload(figure, _format) {\n        window.open(figure.canvas.toDataURL());\n    }\n\n    var fig = new mpl.figure(id, ws_proxy, ondownload, element);\n\n    // Call onopen now - mpl needs it, as it is assuming we've passed it a real\n    // web socket which is closed, not our websocket->open comm proxy.\n    ws_proxy.onopen();\n\n    fig.parent_element = element;\n    fig.cell_info = mpl.find_output_cell(\"<div id='\" + id + \"'></div>\");\n    if (!fig.cell_info) {\n        console.error('Failed to find cell for figure', id, fig);\n        return;\n    }\n    fig.cell_info[0].output_area.element.on(\n        'cleared',\n        { fig: fig },\n        fig._remove_fig_handler\n    );\n};\n\nmpl.figure.prototype.handle_close = function (fig, msg) {\n    var width = fig.canvas.width / fig.ratio;\n    fig.cell_info[0].output_area.element.off(\n        'cleared',\n        fig._remove_fig_handler\n    );\n    fig.resizeObserverInstance.unobserve(fig.canvas_div);\n\n    // Update the output cell to use the data from the current canvas.\n    fig.push_to_output();\n    var dataURL = fig.canvas.toDataURL();\n    // Re-enable the keyboard manager in IPython - without this line, in FF,\n    // the notebook keyboard shortcuts fail.\n    IPython.keyboard_manager.enable();\n    fig.parent_element.innerHTML =\n        '<img src=\"' + dataURL + '\" width=\"' + width + '\">';\n    fig.close_ws(fig, msg);\n};\n\nmpl.figure.prototype.close_ws = function (fig, msg) {\n    fig.send_message('closing', msg);\n    // fig.ws.close()\n};\n\nmpl.figure.prototype.push_to_output = function (_remove_interactive) {\n    // Turn the data on the canvas into data in the output cell.\n    var width = this.canvas.width / this.ratio;\n    var dataURL = this.canvas.toDataURL();\n    this.cell_info[1]['text/html'] =\n        '<img src=\"' + dataURL + '\" width=\"' + width + '\">';\n};\n\nmpl.figure.prototype.updated_canvas_event = function () {\n    // Tell IPython that the notebook contents must change.\n    IPython.notebook.set_dirty(true);\n    this.send_message('ack', {});\n    var fig = this;\n    // Wait a second, then push the new image to the DOM so\n    // that it is saved nicely (might be nice to debounce this).\n    setTimeout(function () {\n        fig.push_to_output();\n    }, 1000);\n};\n\nmpl.figure.prototype._init_toolbar = function () {\n    var fig = this;\n\n    var toolbar = document.createElement('div');\n    toolbar.classList = 'btn-toolbar';\n    this.root.appendChild(toolbar);\n\n    function on_click_closure(name) {\n        return function (_event) {\n            return fig.toolbar_button_onclick(name);\n        };\n    }\n\n    function on_mouseover_closure(tooltip) {\n        return function (event) {\n            if (!event.currentTarget.disabled) {\n                return fig.toolbar_button_onmouseover(tooltip);\n            }\n        };\n    }\n\n    fig.buttons = {};\n    var buttonGroup = document.createElement('div');\n    buttonGroup.classList = 'btn-group';\n    var button;\n    for (var toolbar_ind in mpl.toolbar_items) {\n        var name = mpl.toolbar_items[toolbar_ind][0];\n        var tooltip = mpl.toolbar_items[toolbar_ind][1];\n        var image = mpl.toolbar_items[toolbar_ind][2];\n        var method_name = mpl.toolbar_items[toolbar_ind][3];\n\n        if (!name) {\n            /* Instead of a spacer, we start a new button group. */\n            if (buttonGroup.hasChildNodes()) {\n                toolbar.appendChild(buttonGroup);\n            }\n            buttonGroup = document.createElement('div');\n            buttonGroup.classList = 'btn-group';\n            continue;\n        }\n\n        button = fig.buttons[name] = document.createElement('button');\n        button.classList = 'btn btn-default';\n        button.href = '#';\n        button.title = name;\n        button.innerHTML = '<i class=\"fa ' + image + ' fa-lg\"></i>';\n        button.addEventListener('click', on_click_closure(method_name));\n        button.addEventListener('mouseover', on_mouseover_closure(tooltip));\n        buttonGroup.appendChild(button);\n    }\n\n    if (buttonGroup.hasChildNodes()) {\n        toolbar.appendChild(buttonGroup);\n    }\n\n    // Add the status bar.\n    var status_bar = document.createElement('span');\n    status_bar.classList = 'mpl-message pull-right';\n    toolbar.appendChild(status_bar);\n    this.message = status_bar;\n\n    // Add the close button to the window.\n    var buttongrp = document.createElement('div');\n    buttongrp.classList = 'btn-group inline pull-right';\n    button = document.createElement('button');\n    button.classList = 'btn btn-mini btn-primary';\n    button.href = '#';\n    button.title = 'Stop Interaction';\n    button.innerHTML = '<i class=\"fa fa-power-off icon-remove icon-large\"></i>';\n    button.addEventListener('click', function (_evt) {\n        fig.handle_close(fig, {});\n    });\n    button.addEventListener(\n        'mouseover',\n        on_mouseover_closure('Stop Interaction')\n    );\n    buttongrp.appendChild(button);\n    var titlebar = this.root.querySelector('.ui-dialog-titlebar');\n    titlebar.insertBefore(buttongrp, titlebar.firstChild);\n};\n\nmpl.figure.prototype._remove_fig_handler = function (event) {\n    var fig = event.data.fig;\n    if (event.target !== this) {\n        // Ignore bubbled events from children.\n        return;\n    }\n    fig.close_ws(fig, {});\n};\n\nmpl.figure.prototype._root_extra_style = function (el) {\n    el.style.boxSizing = 'content-box'; // override notebook setting of border-box.\n};\n\nmpl.figure.prototype._canvas_extra_style = function (el) {\n    // this is important to make the div 'focusable\n    el.setAttribute('tabindex', 0);\n    // reach out to IPython and tell the keyboard manager to turn it's self\n    // off when our div gets focus\n\n    // location in version 3\n    if (IPython.notebook.keyboard_manager) {\n        IPython.notebook.keyboard_manager.register_events(el);\n    } else {\n        // location in version 2\n        IPython.keyboard_manager.register_events(el);\n    }\n};\n\nmpl.figure.prototype._key_event_extra = function (event, _name) {\n    // Check for shift+enter\n    if (event.shiftKey && event.which === 13) {\n        this.canvas_div.blur();\n        // select the cell after this one\n        var index = IPython.notebook.find_cell_index(this.cell_info[0]);\n        IPython.notebook.select(index + 1);\n    }\n};\n\nmpl.figure.prototype.handle_save = function (fig, _msg) {\n    fig.ondownload(fig, null);\n};\n\nmpl.find_output_cell = function (html_output) {\n    // Return the cell and output element which can be found *uniquely* in the notebook.\n    // Note - this is a bit hacky, but it is done because the \"notebook_saving.Notebook\"\n    // IPython event is triggered only after the cells have been serialised, which for\n    // our purposes (turning an active figure into a static one), is too late.\n    var cells = IPython.notebook.get_cells();\n    var ncells = cells.length;\n    for (var i = 0; i < ncells; i++) {\n        var cell = cells[i];\n        if (cell.cell_type === 'code') {\n            for (var j = 0; j < cell.output_area.outputs.length; j++) {\n                var data = cell.output_area.outputs[j];\n                if (data.data) {\n                    // IPython >= 3 moved mimebundle to data attribute of output\n                    data = data.data;\n                }\n                if (data['text/html'] === html_output) {\n                    return [cell, data, j];\n                }\n            }\n        }\n    }\n};\n\n// Register the function which deals with the matplotlib target/channel.\n// The kernel may be null if the page has been refreshed.\nif (IPython.notebook.kernel !== null) {\n    IPython.notebook.kernel.comm_manager.register_target(\n        'matplotlib',\n        mpl.mpl_figure_comm\n    );\n}\n"
     },
     "metadata": {},
     "output_type": "display_data"
    },
    {
     "data": {
      "text/plain": [
       "<IPython.core.display.HTML object>"
      ],
      "text/html": [
       "<div id='18877ca6-9d60-4d29-b042-5845cd11ad1d'></div>"
      ]
     },
     "metadata": {},
     "output_type": "display_data"
    }
   ],
   "execution_count": 25
  },
  {
   "metadata": {
    "ExecuteTime": {
     "end_time": "2024-09-23T08:44:31.711086Z",
     "start_time": "2024-09-23T08:44:31.581415Z"
    }
   },
   "cell_type": "code",
   "source": [
    "clustered_reviews = {i: [] for i in range(5)}\n",
    "for sentence, label in zip(all_reviews, labels):\n",
    "    clustered_reviews[label].append(sentence)\n",
    "\n",
    "for cluster_id, sentences in clustered_reviews.items():\n",
    "    print(f'Cluster {cluster_id}:')\n",
    "    print(sentences[:10])"
   ],
   "id": "e6bcf4d44267f6a7",
   "outputs": [
    {
     "name": "stdout",
     "output_type": "stream",
     "text": [
      "Cluster 0:\n",
      "['i am absolutely addicted to this game! beautiful graphics and attention to detail. hope that they come out with more content in the form of new states real soon. i want to drive some of my favorites. a++++', \"two words: absolutely perfect. this stunning marvel **** captivates you with its vibrant high quality graphics, the gameplay is completely and utterly user friendly. the breathtaking backgrounds within this game is truly one of life's wonders and i can die happy and fulfilled knowing that it will be impossible to find a game that is as beautiful and fun as this one.\", 'amazing game great graphics i just love it so much it’s perfect but i think they could improve on some stuff', 'bought this for my girlfriend. without a doubt, the best decision of my life.', 'this game gave me peace and hope in a really dark time. i had so much fun and i will always cherish it.', 'i think lot of people dont like it, becouse its not an action game, but its one of the best game in the console', 'top 3 video games ever. you will play this game for at least 150 hours or if your like me 500 hours.', 'story: 5/10\\r\\ngameplay: 10/10\\r\\ngraphics:7/10\\r\\nmusic: 9/10\\r\\nreplaying advice:n/a\\r\\nbuying advice: 8/10', 'this game is so beautiful and good. i love every detail here. this game runs lovely', \"this game is fantastic. a beautiful graphic and so many sweet characters. but there is a big problem: the text. the're so many text passages which are absolute useless. that is bad. but the rest is near perfect.\"]\n",
      "Cluster 1:\n",
      "[\"this game is some of the most fun i've had with my friends, from cruising and listening to music and grouping up in a convoy and speeding or being lawful. i can only saw good things about this game. the handling and physics are so fantastic and if you have a wheel it becomes 10x more fun.(having played keyboard and wheel for an equal amount of time.) overall this game has only made me smile and would highly recommend to anyone who likes driving games, a refreshing cool down, or joust a good time with or without friends11/10\", 'this is such a fun game to pass the time with. one of my favorite games that i decided to buy. i think everyone should play.', 'the graphics are just as good as in euro truck simulator 2. this game has the best american trucker simulator while realasing a new state every month, im exicted to see something like new york', 'this is the greatest game ever created. with cool-looking graphics that have been told for generations. also, the system of small management could be great because it has a dynamic traffic system. just to be alone the goods can be selected carefully. the trailer parking should be only for reserved gamers who have experienced field trucking skills. look forward for the steering wheel where it can be create little trouble when avoiding traffic jam around major american cities. so it can be described as minor bug moments where it can be ignored by having monthly updates.', 'a relaxing game to kick back from others. gaming can be intense expecially with high paced shooter games and terrifying horror games and sometimes i just need a break from all the action. american truck simulator is the perfect game for this. while it may be frustrating at times driving around the huge truck, theres just something calming about kicking back after a long day and driving a giant 18 wheeler from arizona to california. there are some bugs that could be fixed, i feel like this game really lives up to its big brother euro truck simulator 2.', 'this is a game where you play the game to advance the game ahead so you can do more stuff in the game. this is a cruel cycle that should be destroyed', 'it is a pretty fun game with great details on landmarks and national parks and cities and towns. the graphics aren’t the greatest and sometimes the game won’t let me use me scroll. but otherwise it is great.', \"i'm playing this game only since 2018, that's 2 years after its release. most of my time was invested in ets2 and i thought it was time to dive into this project as well. and boy ... it didn't disappoint at all!\\r\\n\\r\\nwe’re 4 years later now and only a few months ago, i really dove into this game and started to work for the many steam achievements. by doing so, i was able to explore a lot in the game and i have an exploration percentage now of 96%-ish. i’m one of those guys that go searching for real-life counterparts after i found something interesting in the game and man … there are a lot of interesting things to be found! i learned a lot about the states, even though, i did it all from my game chair in belgium, europe.\\r\\neach new dlc brought a lot of exciting stuff to the game. especially the map dlcs. those are just fantastic! i love the dedication of the development team that is shown in their work! a lot of research and love is put into this game!\\r\\n\\r\\nthe game mechanics are very similar to those in ets2. you could say that both games are the same but still with a lot of differences. the american environments are just too different from the european ones to speak of “same games”. also, the trucks are totally different. the fact that scs software is able to let us feel those differences, is just incredible. you actually feel you’re driving a big ass truck and that you have the room to manoeuvre with that truck. driving an american truck, through the american states, is just fantastic!\\r\\n\\r\\nif you’re looking for a truck simulator then look no further! american truck simulator has everything you want in a truck simulator!\", 'best ot the best among any truck sims. (not many out there in a matter of fact)\\r\\nbut there is a lot to do getting better and better, because everything is changing in gaming world every year.', 'i see it as a huge expansion to the euro game - with a small map that is less interesting due to a lack of speed cameras and water routes']\n",
      "Cluster 2:\n",
      "[\"never thought i would enjoy it so much. it's reallly good at what it does. however, the multiplayer isn't as good as it should be.\", 'this game is great. everyone complaining about the multiplayer can’t read. the information has been there. do a little research before you spend $60 on a game.', 'best game in the series, people complain about the multiplayer, they clearly never played ac before.', \"good, i enjoyed it. i haven't played the multiplayer so i can't comment on that.\", \"couldn't have made a better sequel and decisions! there so much more to do compared to past entries! the multiplayer aspect is really good despite being dependent on the primary player for a lot of things. looking forward to the seasonal events!\", \"it's pretty fun. the multiplayer is lack luster but otherwise is an amazing game so far.\", \"the game is absolutely great, the only reason it has a lowish score is because the multiplayer is a little bad, but if one thing is wrong with a beautiful game it doesn't  mean it deserves a score of 0.\", 'greatest shooter ever', \"let me currently tell the current state of the game , right now it's season 12.\\r\\n\\r\\nthe positives\\r\\n+ the balance is probably at it's best place right now, no op legends , no **** legends. mirage is still decent despite what people say, you guys are just trash. the guns are also very balanced.\\r\\n+ the good maps: world's edge, olympus and king's canyon in pub\\r\\n+ the gameplay stands out the most in apex, it's the smoothest fps gameplay on the market right now.\\r\\n+ the matchmaking is not that bad like last seasons but im not an expert so don't take my word for it.\\r\\n+ i like also how every map has a different way to get high tier loot.\\r\\n+ graphics aren't amazing , but for a free to play game they are still solid enough.\\r\\nnegatives\\r\\n- even though the battle pass isn't terrible , i am still waiting for a decent one to buy for a couple season's long lmao.\\r\\n- storm point just feel like a drag. it's to big and when you get in a fight it's always with multiple squads. king's canyon is aight in pub's but in ranked it's a bit to much. not bad but by far the hardest map to get a win.\\r\\n- connection issues still exist\\r\\nneutral point:\\r\\n- bring some small pve event back i liked those\\r\\n- add some new features or a new grenade or something. we just need something to spice it up after 3 years. control is decent but doesn't feel new.\\r\\nconclusion:\\r\\napex legends is the best free fps and maby even the best battle royale out there. smooth gameplay, nicely balanced etc... the only thing the game needs is something fresh and finetuning of stormpoint.\\r\\ni give apex legends a 9 out of 10 , when stormpoint is back in ranked it will be back an 8 though lmaoooo\", 'apex legends is one of my favorite games, being fps, i also liked the legends with their abilities, my main is octane since it is accelerated.']\n",
      "Cluster 3:\n",
      "['this is my favorite game, it is very meditative and relaxing. it is always a pleasure to return to the world of animal crossing. this game is capable of dragging on for a long time, and surprises with new events every time. if you have a nintendo switch, then you just have to play this masterpiece.', 'possibly the best animal crossing game to come.                                                               .', 'animal crossing has been a great franchises since the gamecube game, and new horizons is probably the best one yet.', 'animal crossing new horizons is a ball of a time but you have to understand that when you play it you will hit a wall. eventually you do whatever you wanted to do and you need to take  abreak before finding the next thing.other than that the game isso smooth and well done giving an excellent simulator game for a guy that doesnt even really like simulator games.', \"being a big fan of animal crossing, it's impossible not to play it!on the other hand, we very quickly reach the limits of the switch, the devs understood this well and quickly stopped the updates, which is a shame.\", \"animal crossing new horizons is basically perfect. this games music atmosphere and characters are all amazing. this game is very calming and the community is amazing (just don't mention raymond)\", 'animal crossing new horizons success was complete luck in that the covid 19 pandemic meant people needed something to do, and which game was just coming out? animal crossing new horizons. however, previous animal crossing players such as myself noticed that something was missing in this game. a lot of things were missing. and even after the year and a half of updates that should have been there from the start, there were still things missing. while harvey’s island added pop up shops, it was a lazy excuse for past games permanent shops and even shopping districts. the game also took away several npcs that were staples in the franchise, as well as also removing the negative aspects of villager dialogue almost completely. the only time villagers get mad at you anymore is if you hit them with a net or push them around. the game also puts an immense focus on decorating and customization so much that you’re basically god. you can put anything wherever you want, villagers no longer move out on their own but instead need your permission, and with the dlc you can also customize their houses at your will. all of the charm was taken out replaced by you making every signal decision and you now being your islands new monarchy.', 'by far the deepest entry in this series of animal crossing games, new horizons is a cozy crafting king.', \"new horizons is kinda a step back from new leaf in a few ways that i don't like, but ultimately it's better for it. the slow build to making your island into a villager/town is actually kinda inspiring, and being able to control far more than you ever could in new leaf will certainly make it hard to go to back to. the new characters are all pretty much hits, and while i do miss some of the older characters, the promise of new updates and proper fixes may mean any complains will be moot as well. still breakable tools, not being able to bulk craft, and season events being tied to the internet still **** at launch\", 'animal crossing has been one of nintendos franchises that always stood out to me as a core nintendo fan enjoying each part the franchise has to offer. as the super animal crossing fan i am, i feel that we can safely dub this the greatest animal crossing game to date. \\n\\nthe game completely opens the customization options for the player being the first game to do many new quality of life improvements and the first to completely fill the game with new features. however, while the new levels of customization are fantastic it comes at the cost of the villagers being bland/general lack of interaction with npc\\'s. acnh focused on giving the player the best experience in terms of its core concept, building a community from scratch on a desert island, however sometimes the community feeling dissapears with the lack of backbone and sometimes raw personality from villagers. \\n\\nacnh also has fewer buildings and special characters in general compared to its predecessor new leaf mostly due to the setting but this doesn\\'t excuse the fact that this does make your home island much more empty. and while acnh feels the same if not slightly worse in a lot of those aspects compared to acnl it does however exceed its predecessor in almost all other categories. \\n\\nthe visuals of the game are stunning with each sprite feeling detailed and completely finished with no parts of the games visuals giving off the sense of \"cut corners\" to save development time.\\n\\nnew features in this games make their exclusion in past game stick out showing nintendo\\'s great vision for the franchise. crafting and placing furniture outside is a must have creating endless possibilities for the ever creative fanbase. as previously stated many quality of life improvements are amazing with decorating your own house now being a breeze.\\n\\nas for the dlc expansion it does not disappoint. it provides a completely new setting and main goal only paywalling small features not forcing players into buying it. \\n\\nall in all, i place this game as the best of the best in nintendos history books.']\n",
      "Cluster 4:\n",
      "[\"a game where you can spend two hours driving to your destination, and another hour trying to park your truck once you reach it's destination (if you choose the harder difficulties). it's great!\\n\\nthe driving itself is nice. driving around the massive map from destination to destination carrying cargo is fun and relaxing (most of the time). from highways to cutting through cities to the countryside, just driving is fun. and you can make it as realistic or as unrealistic as you want.\\n\\nwant to obey all traffic laws? go for it. want to not? turn it off and just go vroom. the game doesn't care. automatic or manual? do you want to manually deal with turning on headlight and your wipers? want to have full control over your steering or want the game to help you stay in your lane? all these options and more you can change to make it just right from you. to full on simulation or just drive.\\n\\ni personally turn off the menu music and pull up youtube music to listen to the music in the background as i'm on the road. there is a built in radio though with some stations. and you can connect online to get even more. and none of them are for me. it's easy enough having my own music considering the game only has music in it's main menu.\\n\\nnow, a couple things to consider. by default, you get access to three states: california, nevada, and arizona. all of the other states are locked behind dlc. and not all of the states are available to purchase yet. while it's a decent size map at the start, it's going to be a big investment if you want every state. most states costing roughly $12 u.s. and bigger states, like texas, costing more. you do the math.\\n\\nanother thing to consider is, while the game is good as is, it's better with mods. traffic for one isn't the most realistic but there's plenty of mods that fix this. there's also no seasons and the only weather effects is rain and storms. again, there are mods out there to add more stuff to the game. while the game has workshop support, a lot of the better mods you're going to have to obtain online. \\n\\nkeep in mind that the game has a convoy system as well so you can play with your friends. i say keep in mind though because mods can be a pain in convey. if you're going to play with friends. your friends need the same mods as you, and they need to have the same mod order as you as well. otherwise the game will yell at your friends trying to join you. so just be sure to communicate with your friends if you play with mods and help them get what they need setup.\\n\\nfinally, there's more to this game than just driving. eventually there's a company management system where you can buy garages and trucks, hire people to drive said trucks, and earn money to buy more trucks, people, and garages to put those trucks. there's also free drive mode once you bought your first truck. there's locations to discover, photo opportunities and viewpoints, and it keeps tracks of the roads you've driven on. so there is plenty to do besides drive from point a to point b. and each new state you buy is just more to explore and unlock.\\n\\noverall though, truck is really good. with relaxing driving, challenging parking, and a management system, it's a must for all driving fans.\", \"this is a great game, not just as a well functioning simulator, but also with the details given, i have driven across new mexico several times myself, not in a big rig but the landscape is spot on either way.\\r\\nnight driving feels so real i get lost in the monitor, the way the cars pass you, it all has a hyper realistic interstate feeling.\\r\\nthe game is punishing with duel trailers, some of the 2 and 3 point stuff is the mastery of this game, having a prior knowledge to gear shifting by sound and a few other aspects made it easier to pick up, as i know several truck drivers, but it take true skill to back things up, swinging wide and other things are child's play compared to threading a needle.\\r\\nthe traffic can be unforgiving as well, which i like, as it really makes you see why you should pay attention on the roads, although there are a couple things that annoy me.\\r\\nonce you arrive at a tedious location, that requires a wide turn, some cars in front of you cant be signaled to go around you like in real life, they sit there dumbly, making it even more of an art form, cars also never randomly let you into traffic, as much as this emulates real life, it would be nice for 1 out of 4 cars to allow you in, that would more closely simulate real life. example: when i wanted to free drive after getting a truck, leaving my garage felt weird because out of the long line of traffic, not one person even gave me a gap, realistic yes, but the game has a tendency to make cars stop as they see you coming, but then when you start to move again so do they, purposely hitting you, in sort of awkward ways, as there initial stop should indicate for you to move, instead the game makes the cars hit you, sadly to say, this is what truckers actually face in real life...i think that's why i like the game so much, it's as real as it gets, even the omg moments are realistic, because it highlight the severity of losing you attention for a split second.\\r\\nfantastic game, best game i have played in while, wonderfully functional, bet it would be even better with a steering wheel and pedals...keyboard is not so bad if you rearrange some buttons, and actually utilize the jake break, it sounds cool with headphones and serves a very real purpose, i think the game calls it an engine break...i set it to middle mouse wheel to adjust its power up or down, or, clicking the wheel to use it temporarily.\", 'i´ve played this game since the release date now. i`m not a fanatic player, but i have about 10 gaming hours completed. so i will give this game the review what it deserves. in my opinion here are too many bad votings for this game. also played ets 2, the game before american truck simulator, a lot. also with modifications to get new trucks and locations. because of that i cannot understand people who are calling ats a dlc for the older game. the first few moments in ats were so ... wow! i really like the new setting, the \"life\" around the cities. it feels really fresh to me, and definetely doesn`t remind me too much to ets2. sure, with a lot of mods maybe you could get ets2 somewhere near the same. but where is the honor for the developer? ets2 came out around 2012 (?!) and mods took it real further... but someday (in my opinion) i have no problem to pay some money to the developers again to thank for their great game. and it is not so much money we are talking about. so i can live with that less trucks at the beginning. because i know there will be more coming. and as i said before, for me personally, the game feels fresh and new. i like the new locations and it feels much \"fuller\" than before. there is always something new to discover, and i`m not done yet with these two states... so i`m really positive looking forward to the things that will come within the next updates. the money for ats was well spended. to all the doubters out there - give the game a try, it is one of the best simulators i know, and i would recommend it without any doubts to people that like the genre.\\r\\n\\r\\nps: excuse the language/spelling - i`m from germany. ;)\\r\\nbest regards!\\r\\ncya on the road!', 'this game is amazing, there is nothing wrong with it except for the some what  soulless npcs, i only say this because the last games had very geniune npcswho were actually interesting to talk to. this is really the only problem with the game. many people will say its for people who dont play videogames or dont have time, blablabla. i have played videogames all my life, i love games in which u can grind for hours and never get bored, the thing is my dopamine recievers are melted down like these other losers who say its bad do to the progression. its a great game, its so fun to play alone, the enviromnet of it is amazing, the music is great (not as good as the older games though) and its just as what its presented as. if you arent fond of games with slow progression than dont buy it, if you actually have a the brain of a average human and dont spend 10 hours on tiktok everyday thenyou will have a lot of fun.', '84/100\\r\\ngood innovations, qol improvements and good graphics. somehow it lacks the charm of the previous titles', \"really enjoyed it. has some pacing issues and if you don't want to timeskip you run out of stuff to do pretty quickly. if you're an old fan of the series, you're gonna love this one. if you're new to town, get ready for some minor but strange mistakes.\", \"folks seem to think that a mild inconvenience is worth giving a game a rating of 0. if the game does not run, or damages your hardware, or if it is literally unplayable, then that deserves a 0. it's a gorgeous game that makes me happy, it's probably one of the strongest titles in the series. folks giving this game a 0 are one of the reasons we can't have nice things\", \"after some hours of playing,i can say my **** a good game,its really relaxing,and with this game you can take a break.this game is really good in this period because of the **** bad thing is that at the very first hours you can't explore that much because of the 2 rivers; also this game is not for everyone,not everyone can appreciate this **** anyway,its a really good **** has some really good graphics and i didn't see any graphic **** yeah,i reccomend this.(p.s this game is is even better with headphones!relaxing music+high quality sound effects is the best!you should try if you have some headphones.)\", 'main evaluation criteria:\\r\\n-story: 8\\r\\n-atmosphere: 10\\r\\n-characters: 7\\r\\n-graphics and design: 10\\r\\n-gameplay: 10\\r\\n-sound and music: 10\\r\\n-bugs: 8\\r\\n-interface: 10\\r\\n-balance (multiplayer): 9\\r\\n- donates influence on the game (pay to win): 10\\r\\n\\r\\nаdditional evaluation criteria (do not really affect the assessment):\\r\\n-freedom of choice: 0\\r\\n-coop in story mode: 8\\r\\n-multiplayer: 10\\r\\n-mods and the ability to change the game: 0\\r\\n\\r\\nscores from 1 to 10, the higher the better\\r\\n\\r\\nsingleplayer: 7/10\\r\\nmultiplayer: 10/10', 'great game, much harder then its predecessor. great graphics and fluid game play. slight down falls with the mic problem that is being worked on and hard to jump over certain objects. those aside very deep game with alot of stuff to do. like i said great game with alot of play time']\n"
     ]
    }
   ],
   "execution_count": 28
  }
 ],
 "metadata": {
  "kernelspec": {
   "display_name": "Python 3 (ipykernel)",
   "language": "python",
   "name": "python3"
  },
  "language_info": {
   "codemirror_mode": {
    "name": "ipython",
    "version": 2
   },
   "file_extension": ".py",
   "mimetype": "text/x-python",
   "name": "python",
   "nbconvert_exporter": "python",
   "pygments_lexer": "ipython2",
   "version": "2.7.6"
  }
 },
 "nbformat": 4,
 "nbformat_minor": 5
}
