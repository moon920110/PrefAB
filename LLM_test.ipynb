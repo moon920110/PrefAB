{
 "cells": [
  {
   "metadata": {
    "ExecuteTime": {
     "end_time": "2025-09-26T05:00:46.200218Z",
     "start_time": "2025-09-26T05:00:46.180525Z"
    }
   },
   "cell_type": "code",
   "source": [
    "import os\n",
    "\n",
    "from google import genai\n",
    "from google.genai import types\n",
    "from dotenv import load_dotenv\n",
    "\n",
    "load_dotenv()"
   ],
   "id": "e280e53ed416ffcf",
   "outputs": [
    {
     "data": {
      "text/plain": [
       "True"
      ]
     },
     "execution_count": 9,
     "metadata": {},
     "output_type": "execute_result"
    }
   ],
   "execution_count": 9
  },
  {
   "metadata": {
    "ExecuteTime": {
     "end_time": "2025-09-26T04:58:30.035745Z",
     "start_time": "2025-09-26T04:58:29.886117Z"
    }
   },
   "cell_type": "code",
   "source": [
    "API_KEY = os.getenv('GOOGLEAI_API_KEY')\n",
    "client = genai.Client(api_key=API_KEY)"
   ],
   "id": "48b0e96183830c7d",
   "outputs": [],
   "execution_count": 8
  },
  {
   "metadata": {
    "ExecuteTime": {
     "end_time": "2025-09-26T05:03:37.535067Z",
     "start_time": "2025-09-26T05:03:18.818985Z"
    }
   },
   "cell_type": "code",
   "source": [
    "path = '/Users/supermoon/Documents/Research/Affective AI/preference-based low-budget annotation/userstudy/exp1/exp2/p4/p4_s2/p4_topdown_s2_7.mp4'\n",
    "video_bytes = open(path, 'rb').read()\n",
    "\n",
    "resp = client.models.generate_content(\n",
    "    model='models/gemini-2.5-flash',\n",
    "    contents=types.Content(\n",
    "        parts=[\n",
    "            types.Part(\n",
    "                inline_data=types.Blob(data=video_bytes, mime_type='video/mp4')\n",
    "            ),\n",
    "            types.Part(text='You have to explain this scene to the player who will annotate their experience of this scene. Please explain the scene in detail.')\n",
    "        ]\n",
    "    )\n",
    ")"
   ],
   "id": "69b07b3e96e8075",
   "outputs": [],
   "execution_count": 10
  },
  {
   "metadata": {
    "ExecuteTime": {
     "end_time": "2025-09-26T05:05:17.262193Z",
     "start_time": "2025-09-26T05:05:17.250721Z"
    }
   },
   "cell_type": "code",
   "source": "resp.text",
   "id": "258a3c52b0743c4b",
   "outputs": [
    {
     "data": {
      "text/plain": [
       "\"This scene is a top-down tactical shooter viewed from an isometric perspective, showcasing a player character engaging multiple enemies within an office building environment.\\n\\n**Environment:**\\nThe game takes place across several interconnected rooms with dark gray carpeted floors and light brown walls.\\n\\n*   **Starting Room (Lounge):** On the right side of the screen, there's a lounge or waiting area featuring a long orange sectional sofa, two smaller dark gray chairs, a TV stand with a television and two large speakers, and two green potted plants.\\n*   **Office Room:** To the left and slightly above the lounge, there's a large open-plan office space. This room is filled with a grid of light gray desks with brown office chairs, providing numerous obstacles and potential cover.\\n*   **Lower Corridors/Rooms:** Below the main office, there are more corridors and rooms, partially visible, featuring pillars and additional space for combat.\\n\\n**Characters:**\\n\\n*   **Player Character:** Dressed in white attire, the player character is seen moving quickly and firing a weapon that produces white muzzle flashes and small puffs of white smoke upon impact. They appear agile and capable of taking on multiple foes. Towards the end of the clip (around 0:08-0:09), the player character glows with a distinct yellow/orange aura, suggesting a temporary power-up or activated ability.\\n*   **Enemies:** Dressed in red tops and brown pants, enemies are armed with what appear to be firearms. They often display visible red laser sights, indicating their targeting. When hit, enemies typically fall backward and disappear in a puff of white smoke/particles. They are positioned strategically around the rooms, sometimes appearing from off-screen or from behind cover.\\n\\n**Gameplay and Action:**\\n\\n*   **Initial Engagement (0:00-0:02):** The scene begins with the player character in the lounge area, immediately engaging two enemies in the adjacent upper office room. The player quickly dispatches these foes.\\n*   **Entering the Office (0:02-0:06):** The player character moves through a doorway into the main office room. Here, they encounter and engage more enemies, using the desks as partial cover. A notable element introduced is a small, cylindrical, blue device on the floor (around 0:03).\\n*   **Explosive Device (0:06-0:07):** As the player navigates the office, the blue device unexpectedly detonates with a significant explosion, eliminating one of the enemies. This suggests it's an environmental hazard or a deployable explosive.\\n*   **Intense Combat (0:07-0:09):** The action escalates into a more chaotic shootout. The player moves into the lower corridors, facing multiple enemies approaching from different directions (left, right, and from the upper office). There are numerous bullet trails (yellow streaks) flying across the screen, indicating heavy crossfire. The player character's yellow glow appears during this intense phase, potentially indicating increased damage, defense, or an area-of-effect attack. The scene ends with a flurry of gunfire and explosions as the player continues to clear the area.\\n\\nOverall, the scene depicts fast-paced, top-down combat with a focus on movement, target prioritization, and environmental interaction (like the explosive device).\""
      ]
     },
     "execution_count": 12,
     "metadata": {},
     "output_type": "execute_result"
    }
   ],
   "execution_count": 12
  }
 ],
 "metadata": {
  "kernelspec": {
   "display_name": "Python 3",
   "language": "python",
   "name": "python3"
  },
  "language_info": {
   "codemirror_mode": {
    "name": "ipython",
    "version": 2
   },
   "file_extension": ".py",
   "mimetype": "text/x-python",
   "name": "python",
   "nbconvert_exporter": "python",
   "pygments_lexer": "ipython2",
   "version": "2.7.6"
  }
 },
 "nbformat": 4,
 "nbformat_minor": 5
}
